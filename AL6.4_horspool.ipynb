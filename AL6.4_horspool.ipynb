{
 "cells": [
  {
   "cell_type": "markdown",
   "id": "b306040f-efa3-4856-9582-c9ccf478d106",
   "metadata": {},
   "source": [
    "# 호스풀 알고리즘\n",
    "\n",
    "## 1) 문제 정의\n",
    "주어진 텍스트 내에서 특정 패턴이 나타나는 위치를 찾는 문자열 매칭 문제를 해결하기 위해 호스풀 알고리즘을 사용합니다. 이 알고리즘은 시프트 테이블을 이용하여 미스매치가 발생할 경우 패턴을 얼마나 멀리 이동할지를 미리 계산합니다.\n",
    "\n",
    "## 2) 알고리즘 설명\n",
    "호스풀 알고리즘은 다음과 같은 단계로 동작합니다:\n",
    "1. 시프트 테이블을 생성합니다. 이 테이블은 패턴 내의 각 문자에 대해 미스매치가 발생했을 때 얼마나 멀리 이동할지를 나타냅니다.\n",
    "2. 텍스트를 순회하며 패턴을 매칭시킵니다. 만약 미스매치가 발생하면 시프트 테이블을 참고하여 패턴을 오른쪽으로 이동시킵니다.\n",
    "\n",
    "## 3) 손으로 푼 예제\n",
    "- 손으로 푼 결과 이미지 삽입 ![손으로 푼 예제](img/horspool_example.jpg)\n",
    "\n",
    "## 4) 코드 개요\n",
    "- 입력 변수:\n",
    "  - `T`: 텍스트 문자열\n",
    "  - `P`: 패턴 문자열\n",
    "- 출력: 패턴이 처음 나타나는 위치의 인덱스 (없을 경우 -1)\n",
    "- 함수 설명:\n",
    "  - `shift_table(pat)`: 패턴 문자열을 입력으로 받아 시프트 테이블을 생성하여 반환합니다.\n",
    "  - `search_horspool(T, P)`: 텍스트 `T` 내에서 패턴 `P`를 호스풀 알고리즘을 사용하여 검색하고, 패턴이 처음 나타나는 위치의 인덱스를 반환합니다.\n",
    "\n",
    "## 5) 코드"
   ]
  },
  {
   "cell_type": "code",
   "execution_count": 5,
   "id": "cfd1a7dd-c172-43fe-9884-be579b4b81b6",
   "metadata": {},
   "outputs": [
    {
     "name": "stdout",
     "output_type": "stream",
     "text": [
      "패턴이 처음 나타나는 위치: 17\n"
     ]
    }
   ],
   "source": [
    "NO_OF_CHARS = 128\n",
    "\n",
    "def shift_table(pat):\n",
    "    m = len(pat)\n",
    "    tbl = [m] * NO_OF_CHARS  # 시프트 테이블을 패턴의 길이로 초기화\n",
    "    for i in range(m-1):  # 패턴의 마지막 문자를 제외하고 반복\n",
    "        tbl[ord(pat[i])] = m - i - 1  # 패턴 내 각 문자에 대한 시프트 값을 설정\n",
    "    return tbl\n",
    "\n",
    "def search_horspool(T, P):\n",
    "    m = len(P)\n",
    "    n = len(T)\n",
    "    t = shift_table(P)\n",
    "    i = m - 1\n",
    "    while i <= n - 1:\n",
    "        k = 0\n",
    "        while k <= m - 1 and P[m - 1 - k] == T[i - k]:\n",
    "            k += 1\n",
    "        if k == m:\n",
    "            return i - m + 1\n",
    "        else:\n",
    "            tc = t[ord(T[i])]\n",
    "            i += max(1, tc - k)\n",
    "    return -1\n",
    "    \n",
    "# 예제 사용\n",
    "text = \"THIS IS A SIMPLE EXAMPLE\"\n",
    "pattern = \"EXAMPLE\"\n",
    "result = search_horspool(text, pattern)\n",
    "print(\"패턴이 처음 나타나는 위치:\", result)"
   ]
  },
  {
   "cell_type": "markdown",
   "id": "41f0077d-159a-427a-b755-41e8cc645c51",
   "metadata": {},
   "source": [
    "# 6) 테스트 코드"
   ]
  },
  {
   "cell_type": "code",
   "execution_count": 4,
   "id": "c852ee2d-3003-4861-a26d-33f6fd9f162a",
   "metadata": {},
   "outputs": [
    {
     "name": "stdout",
     "output_type": "stream",
     "text": [
      "패턴이 처음 나타나는 위치: 17\n"
     ]
    }
   ],
   "source": [
    "# 예제 사용\n",
    "text = \"THIS IS A SIMPLE EXAMPLE\"\n",
    "pattern = \"EXAMPLE\"\n",
    "result = search_horspool(text, pattern)\n",
    "print(\"패턴이 처음 나타나는 위치:\", result)"
   ]
  },
  {
   "cell_type": "markdown",
   "id": "1f81580f-1f50-4833-aa3c-9832e7129f27",
   "metadata": {},
   "source": [
    "# 7) 수행 결과\n",
    "결과 캡춰하여 이미지로 삽입 \n",
    "# 8) 복잡도 분석\n",
    "시프트 테이블 생성의 시간 복잡도는 패턴의 길이에 비례하여 O(m) 입니다. 여기서 m은 패턴의 길이입니다.\n",
    "검색 과정의 시간 복잡도는 최악의 경우 O(mn)입니다. 하지만 일반적으로 호스풀 알고리즘은 매우 효율적으로 작동하여 평균적으로 O(n)에 가까운 성능을 보입니다.\n",
    "# 9) 협력 내용\n",
    "이 프로젝트는 팀별로 협력하여 진행되었습니다. 각 팀원은 다음과 같은 역할을 담당했습니다:"
   ]
  },
  {
   "cell_type": "code",
   "execution_count": null,
   "id": "7655a741-f3e9-492e-b272-b8caaf7acf71",
   "metadata": {},
   "outputs": [],
   "source": []
  }
 ],
 "metadata": {
  "kernelspec": {
   "display_name": "Python 3 (ipykernel)",
   "language": "python",
   "name": "python3"
  },
  "language_info": {
   "codemirror_mode": {
    "name": "ipython",
    "version": 3
   },
   "file_extension": ".py",
   "mimetype": "text/x-python",
   "name": "python",
   "nbconvert_exporter": "python",
   "pygments_lexer": "ipython3",
   "version": "3.12.2"
  }
 },
 "nbformat": 4,
 "nbformat_minor": 5
}
