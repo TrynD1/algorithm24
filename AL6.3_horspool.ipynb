{
 "cells": [
  {
   "cell_type": "markdown",
   "id": "937a4c12-a0e4-48ed-b2e4-3cc5d11a060e",
   "metadata": {},
   "source": [
    "# 알고리즘 6.3 호스풀 알고리즘: 시프트 테이블 생성"
   ]
  },
  {
   "cell_type": "markdown",
   "id": "b306040f-efa3-4856-9582-c9ccf478d106",
   "metadata": {},
   "source": [
    "# 호스풀 알고리즘: 시프트 테이블 생성\n",
    "\n",
    "## 1) 문제 정의\n",
    "주어진 텍스트 내에서 특정 패턴이 나타나는 위치를 찾는 문자열 매칭 문제를 해결하기 위해 호스풀 알고리즘을 사용합니다. 이 알고리즘은 시프트 테이블을 이용하여 미스매치가 발생할 경우 패턴을 얼마나 멀리 이동할지를 미리 계산합니다.\n",
    "\n",
    "## 2) 알고리즘 설명\n",
    "호스풀 알고리즘은 다음과 같은 단계로 동작합니다:\n",
    "1. 시프트 테이블을 생성합니다. 이 테이블은 패턴 내의 각 문자에 대해 미스매치가 발생했을 때 얼마나 멀리 이동할지를 나타냅니다.\n",
    "2. 텍스트를 순회하며 패턴을 매칭시킵니다. 만약 미스매치가 발생하면 시프트 테이블을 참고하여 패턴을 오른쪽으로 이동시킵니다.\n",
    "\n",
    "## 3) 손으로 푼 예제\n",
    "- 손으로 푼 결과 이미지 삽입 ![손으로 푼 예제](img/horspool_example.jpg)\n",
    "\n",
    "## 4) 코드 개요\n",
    "- 입력 변수: `pat` (패턴 문자열)\n",
    "- 출력: 시프트 테이블 (리스트)\n",
    "- 함수 설명: \n",
    "  - `shift_table(pat)`: 패턴 문자열을 입력으로 받아 시프트 테이블을 생성하여 반환합니다.\n",
    "\n",
    "## 5) 코드"
   ]
  },
  {
   "cell_type": "code",
   "execution_count": 3,
   "id": "cfd1a7dd-c172-43fe-9884-be579b4b81b6",
   "metadata": {},
   "outputs": [
    {
     "name": "stdout",
     "output_type": "stream",
     "text": [
      "[7, 7, 7, 7, 7, 7, 7, 7, 7, 7, 7, 7, 7, 7, 7, 7, 7, 7, 7, 7, 7, 7, 7, 7, 7, 7, 7, 7, 7, 7, 7, 7, 7, 7, 7, 7, 7, 7, 7, 7, 7, 7, 7, 7, 7, 7, 7, 7, 7, 7, 7, 7, 7, 7, 7, 7, 7, 7, 7, 7, 7, 7, 7, 7, 7, 4, 7, 7, 7, 6, 7, 7, 7, 7, 7, 7, 1, 3, 7, 7, 2, 7, 7, 7, 7, 7, 7, 7, 5, 7, 7, 7, 7, 7, 7, 7, 7, 7, 7, 7, 7, 7, 7, 7, 7, 7, 7, 7, 7, 7, 7, 7, 7, 7, 7, 7, 7, 7, 7, 7, 7, 7, 7, 7, 7, 7, 7, 7]\n"
     ]
    }
   ],
   "source": [
    "NO_OF_CHARS = 128\n",
    "\n",
    "def shift_table(pat):\n",
    "    m = len(pat)\n",
    "    tbl = [m] * NO_OF_CHARS  # 시프트 테이블을 패턴의 길이로 초기화\n",
    "    for i in range(m-1):  # 패턴의 마지막 문자를 제외하고 반복\n",
    "        tbl[ord(pat[i])] = m - i - 1  # 패턴 내 각 문자에 대한 시프트 값을 설정\n",
    "    return tbl\n",
    "\n",
    "# 예제 사용\n",
    "pattern = \"EXAMPLE\"\n",
    "shift_tbl = shift_table(pattern)\n",
    "print(shift_tbl)"
   ]
  },
  {
   "cell_type": "code",
   "execution_count": 4,
   "id": "c852ee2d-3003-4861-a26d-33f6fd9f162a",
   "metadata": {},
   "outputs": [
    {
     "name": "stdout",
     "output_type": "stream",
     "text": [
      "[7, 7, 7, 7, 7, 7, 7, 7, 7, 7, 7, 7, 7, 7, 7, 7, 7, 7, 7, 7, 7, 7, 7, 7, 7, 7, 7, 7, 7, 7, 7, 7, 7, 7, 7, 7, 7, 7, 7, 7, 7, 7, 7, 7, 7, 7, 7, 7, 7, 7, 7, 7, 7, 7, 7, 7, 7, 7, 7, 7, 7, 7, 7, 7, 7, 4, 7, 7, 7, 6, 7, 7, 7, 7, 7, 7, 1, 3, 7, 7, 2, 7, 7, 7, 7, 7, 7, 7, 5, 7, 7, 7, 7, 7, 7, 7, 7, 7, 7, 7, 7, 7, 7, 7, 7, 7, 7, 7, 7, 7, 7, 7, 7, 7, 7, 7, 7, 7, 7, 7, 7, 7, 7, 7, 7, 7, 7, 7]\n"
     ]
    }
   ],
   "source": [
    "# 예제 사용\n",
    "pattern = \"EXAMPLE\"\n",
    "shift_tbl = shift_table(pattern)\n",
    "print(shift_tbl)"
   ]
  },
  {
   "cell_type": "markdown",
   "id": "41f0077d-159a-427a-b755-41e8cc645c51",
   "metadata": {},
   "source": [
    "# 7) 수행 결과\n",
    "결과 캡춰하여 이미지로 삽입 \n",
    "# 8) 복잡도 분석\n",
    "시프트 테이블 생성의 시간 복잡도는 패턴의 길이에 비례하여 O(m) 입니다. 여기서 m은 패턴의 길이입니다. 따라서 시프트 테이블 생성은 효율적이며, 문자열 매칭 과정에서도 높은 성능을 기대할 수 있습니다.\n",
    "\n",
    "# 9) 협력 내용\n",
    "이 프로젝트는 팀별로 협력하여 진행되었습니다. 각 팀원은 다음과 같은 역할을 담당했습니다:"
   ]
  },
  {
   "cell_type": "code",
   "execution_count": null,
   "id": "1aa33723-f7c1-416a-81fd-d26ea7f9bcd6",
   "metadata": {},
   "outputs": [],
   "source": []
  }
 ],
 "metadata": {
  "kernelspec": {
   "display_name": "Python 3 (ipykernel)",
   "language": "python",
   "name": "python3"
  },
  "language_info": {
   "codemirror_mode": {
    "name": "ipython",
    "version": 3
   },
   "file_extension": ".py",
   "mimetype": "text/x-python",
   "name": "python",
   "nbconvert_exporter": "python",
   "pygments_lexer": "ipython3",
   "version": "3.12.2"
  }
 },
 "nbformat": 4,
 "nbformat_minor": 5
}
