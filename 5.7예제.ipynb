{
 "cells": [
  {
   "cell_type": "markdown",
   "id": "7f7af2aa-946d-4e36-9989-da7cd42d6024",
   "metadata": {},
   "source": [
    "# 알고리즘 5.7 이진트리의 후위 순회\n",
    "\n",
    "### 1) 문제 정의\n",
    "이진 트리의 후위 순회는 트리의 각 노드를 왼쪽 하위 트리, 오른쪽 하위 트리, 그리고 마지막으로 루트 노드 순으로 방문하는 순회 방법입니다. 이 방법은 노드를 처리하기 전에 모든 하위 노드들을 먼저 처리해야 할 때 사용됩니다, 예를 들면 트리 기반의 수식을 계산하거나 트리의 메모리를 해제할 때 유용합니다.\n",
    "\n",
    "### 2) 알고리즘 설명\n",
    "후위 순회 알고리즘은 다음 단계를 따릅니다:\n",
    "1. 현재 노드의 왼쪽 하위 트리를 재귀적으로 순회합니다.\n",
    "2. 현재 노드의 오른쪽 하위 트리를 재귀적으로 순회합니다.\n",
    "3. 현재 노드를 처리합니다(예: 데이터 출력).\n",
    "\n",
    "### 3) 손으로 푼 예제\n",
    "예를 들어, 다음과 같은 이진 트리가 있다고 가정합니다:\n",
    "```\n",
    "       1\n",
    "      / \\\n",
    "     2   3\n",
    "    / \\\n",
    "   4   5\n",
    "```\n",
    "후위 순회 결과는 4, 5, 2, 3, 1 입니다. \n",
    "\n",
    "(자료 별첨)\n",
    "\n",
    "### 4) 코드 개요\n",
    "- **입력 변수**: `n` - 순회를 시작할 노드\n",
    "- **출력**: 콘솔에 각 노드의 데이터를 후위 순회 순서로 출력\n",
    "- **함수 설명**: `postorder` 함수는 주어진 노드로부터 시작하여 이진 트리를\n",
    " 후위 순회하며 각 노드의 데이터를 각자 다른 종류의 이진 트리를 생성하여 코드를 테스트하고, 피드백을 주고받으며 알고리즘의 정확성을 향상시켰습니다."
   ]
  },
  {
   "cell_type": "code",
   "execution_count": 9,
   "id": "75dff95e-1aa9-4e91-be29-8d6367a3a9c7",
   "metadata": {},
   "outputs": [],
   "source": [
    "class Node:\n",
    "    def __init__(self, data):\n",
    "        self.data = data\n",
    "        self.left = None\n",
    "        self.right = None\n",
    "\n",
    "def postorder(n):\n",
    "    if n is not None:\n",
    "        postorder(n.left)\n",
    "        postorder(n.right)\n",
    "        print(n.data, end=' ')"
   ]
  },
  {
   "cell_type": "code",
   "execution_count": 7,
   "id": "00ad9b40-1cc8-4f60-bf43-887482a38c55",
   "metadata": {},
   "outputs": [
    {
     "name": "stdout",
     "output_type": "stream",
     "text": [
      "이진트리의 후위 순회식:\n",
      "4 5 2 3 1 "
     ]
    }
   ],
   "source": [
    "# 이진 트리 생성 및 후위 순회 실행\n",
    "root = Node(1)\n",
    "root.left = Node(2)\n",
    "root.right = Node(3)\n",
    "\n",
    "root.left.left = Node(4)\n",
    "root.left.right = Node(5)\n",
    "\n",
    "print(\"이진트리의 후위 순회식:\")\n",
    "postorder(root)"
   ]
  },
  {
   "cell_type": "markdown",
   "id": "3f1d96fc-9af3-487a-b4bb-c6596bf523c7",
   "metadata": {},
   "source": [
    "\n",
    "### 7) 수행 결과\n",
    "출력은 \"4 5 2 3 1 \" 입니다.\n",
    "\n",
    "### 8) 복잡도 분석\n",
    "이 알고리즘의 시간 복잡도는 \\(O(n)\\)입니다, 여기서 \\(n\\)은 트리의 노드 수입니다. 공간 복잡도는 최악의 경우(링크드 리스트와 같은 편향 트리) \\(O(n)\\)입니다.\n",
    "\n",
    "### 9) 협력 내용(조별, 팀별)\n",
    "팀원들은 각자 다른 종류의 이진 트리를 생성하여 코드를 테스트하고, 피드백을 주고받으며 알고리즘의 정확성을 향상시켰습니다."
   ]
  },
  {
   "cell_type": "code",
   "execution_count": null,
   "id": "8c3dcc0e-0c1b-4c2f-8b97-cfff3fc481b9",
   "metadata": {},
   "outputs": [],
   "source": []
  }
 ],
 "metadata": {
  "kernelspec": {
   "display_name": "Python 3 (ipykernel)",
   "language": "python",
   "name": "python3"
  },
  "language_info": {
   "codemirror_mode": {
    "name": "ipython",
    "version": 3
   },
   "file_extension": ".py",
   "mimetype": "text/x-python",
   "name": "python",
   "nbconvert_exporter": "python",
   "pygments_lexer": "ipython3",
   "version": "3.9.13"
  }
 },
 "nbformat": 4,
 "nbformat_minor": 5
}
